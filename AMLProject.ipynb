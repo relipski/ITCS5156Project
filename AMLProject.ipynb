{
  "nbformat": 4,
  "nbformat_minor": 0,
  "metadata": {
    "colab": {
      "name": "AMLProject.ipynb",
      "provenance": [],
      "collapsed_sections": []
    },
    "kernelspec": {
      "name": "python3",
      "display_name": "Python 3"
    },
    "language_info": {
      "name": "python"
    }
  },
  "cells": [
    {
      "cell_type": "code",
      "execution_count": 1,
      "metadata": {
        "id": "oGNXwv60WG6B"
      },
      "outputs": [],
      "source": [
        "!pip install -Uqq fastai==2.2.7 && pip install -Uqq torchsummary"
      ]
    },
    {
      "cell_type": "code",
      "source": [
        "import numpy as np # linear algebra\n",
        "import pandas as pd\n",
        "import os\n",
        "import glob\n",
        "import pickle\n",
        "from matplotlib.pyplot import imread, imshow, imsave\n",
        "import matplotlib as plt\n",
        "import re\n",
        "import random\n",
        "import cv2"
      ],
      "metadata": {
        "id": "TcNQWuMzWOsx"
      },
      "execution_count": 2,
      "outputs": []
    },
    {
      "cell_type": "code",
      "source": [
        "from google.colab import drive\n",
        "drive.mount('/content/drive', force_remount = True)\n",
        "\n",
        "module_dir = '/content/drive/My Drive/Colab Notebooks/'\n",
        "data_dir = os.path.join(module_dir, 'dataset')\n",
        "label_dir = os.path.join(module_dir, 'labeled')\n",
        "test_dir = os.path.join(module_dir, 'test')"
      ],
      "metadata": {
        "colab": {
          "base_uri": "https://localhost:8080/"
        },
        "id": "GknLuJshWUv0",
        "outputId": "fc63fb08-a109-4738-d7b7-933bde139355"
      },
      "execution_count": 3,
      "outputs": [
        {
          "output_type": "stream",
          "name": "stdout",
          "text": [
            "Mounted at /content/drive\n"
          ]
        }
      ]
    },
    {
      "cell_type": "markdown",
      "source": [
        "## Data Prep"
      ],
      "metadata": {
        "id": "_mVl5dZbQ0wT"
      }
    },
    {
      "cell_type": "code",
      "source": [
        "traindata = glob.glob(f'{data_dir}/train/*.jpeg')\n",
        "len(traindata)"
      ],
      "metadata": {
        "colab": {
          "base_uri": "https://localhost:8080/"
        },
        "id": "1mfve5XpWmxJ",
        "outputId": "5818c7ad-ba81-4175-e4cc-f915033e6896"
      },
      "execution_count": 21,
      "outputs": [
        {
          "output_type": "execute_result",
          "data": {
            "text/plain": [
              "80000"
            ]
          },
          "metadata": {},
          "execution_count": 21
        }
      ]
    },
    {
      "cell_type": "code",
      "source": [
        "testdata = glob.glob(f'{data_dir}/test/*.jpeg')\n",
        "len(testdata)"
      ],
      "metadata": {
        "colab": {
          "base_uri": "https://localhost:8080/"
        },
        "id": "dxwIP7D1Wyd4",
        "outputId": "45568d94-d4eb-4d23-bf66-5f9334699ad9"
      },
      "execution_count": 3,
      "outputs": [
        {
          "output_type": "execute_result",
          "data": {
            "text/plain": [
              "20000"
            ]
          },
          "metadata": {},
          "execution_count": 3
        }
      ]
    },
    {
      "cell_type": "code",
      "source": [
        "trainindex = random.sample(range(0,80000), 2000)"
      ],
      "metadata": {
        "id": "B4n87LknjxtS"
      },
      "execution_count": 13,
      "outputs": []
    },
    {
      "cell_type": "code",
      "source": [
        "testindex = random.sample(range(0,20000), 500)"
      ],
      "metadata": {
        "id": "bKDkXEAekTb5"
      },
      "execution_count": 4,
      "outputs": []
    },
    {
      "cell_type": "code",
      "source": [
        "def flattenFEN(str):\n",
        "  flattened = ['_'] * 64\n",
        "  cur = 0\n",
        "  for i in str:\n",
        "    if(i == '-'):\n",
        "      continue\n",
        "    if(i >= '1' and i <= '8'):\n",
        "      cur += ord(i) - ord('0')\n",
        "      continue\n",
        "    flattened[cur] = i\n",
        "    cur += 1\n",
        "\n",
        "  return flattened   "
      ],
      "metadata": {
        "id": "M-j6_9R_hTDI"
      },
      "execution_count": 6,
      "outputs": []
    },
    {
      "cell_type": "code",
      "source": [
        "## Train\n",
        "\n",
        "imagecnt = 1\n",
        "for index in trainindex:\n",
        "  im = imread(traindata[index])\n",
        "\n",
        "  find = re.search('train/(.+?).jpeg', traindata[index]).group(1)\n",
        "  flat = flattenFEN(find)\n",
        "\n",
        "  num = 1\n",
        "  for i in range(0, 400, 50):\n",
        "    for j in range(0, 400, 50):\n",
        "      crop = im[i:i+50, j:j+50]\n",
        "      imsave(f'{label_dir}/{imagecnt}_{flat[num-1]}.jpg', crop)\n",
        "      num += 1\n",
        "      imagecnt += 1\n",
        "\n",
        "\n"
      ],
      "metadata": {
        "id": "Gi6n3D816QKz"
      },
      "execution_count": 70,
      "outputs": []
    },
    {
      "cell_type": "code",
      "source": [
        "labeleddata = glob.glob(f'{label_dir}/*.jpg')\n",
        "len(labeleddata)"
      ],
      "metadata": {
        "colab": {
          "base_uri": "https://localhost:8080/"
        },
        "id": "fSXm7-Ij42Cn",
        "outputId": "6a346712-e69d-4981-b502-6827e61abf4f"
      },
      "execution_count": 77,
      "outputs": [
        {
          "output_type": "execute_result",
          "data": {
            "text/plain": [
              "127983"
            ]
          },
          "metadata": {},
          "execution_count": 77
        }
      ]
    },
    {
      "cell_type": "code",
      "source": [
        "## Test Data\n",
        "testnum = -1\n",
        "for index in testindex:\n",
        "  im = imread(testdata[index])\n",
        "\n",
        "  find = re.search('test/(.+?).jpeg', testdata[index]).group(1)\n",
        "  flat = flattenFEN(find)\n",
        "\n",
        "  testnum += 1\n",
        "  num = 1\n",
        "  for i in range(0, 400, 50):\n",
        "    for j in range(0, 400, 50):\n",
        "      crop = im[i:i+50, j:j+50]\n",
        "      imsave(f'{test_dir}/{testnum}_{num}_{flat[num-1]}.jpg', crop)\n",
        "      num += 1                        "
      ],
      "metadata": {
        "id": "CJKJNj7qI08_"
      },
      "execution_count": 7,
      "outputs": []
    },
    {
      "cell_type": "code",
      "source": [
        "labeledtestdata = glob.glob(f'{test_dir}/*.jpg')\n",
        "len(labeledtestdata)                      "
      ],
      "metadata": {
        "colab": {
          "base_uri": "https://localhost:8080/"
        },
        "id": "PSUEFm7D5PbR",
        "outputId": "1b996703-f845-46e7-a61c-348eb7746fb5"
      },
      "execution_count": 4,
      "outputs": [
        {
          "output_type": "execute_result",
          "data": {
            "text/plain": [
              "32000"
            ]
          },
          "metadata": {},
          "execution_count": 4
        }
      ]
    },
    {
      "cell_type": "markdown",
      "source": [
        "## Model"
      ],
      "metadata": {
        "id": "Py51cOVL2CL7"
      }
    },
    {
      "cell_type": "code",
      "source": [
        "from fastai.vision.all import *\n",
        "from fastai.data.all import *\n",
        "from torchsummary import summary"
      ],
      "metadata": {
        "id": "kSJHSjyApRmu"
      },
      "execution_count": 5,
      "outputs": []
    },
    {
      "cell_type": "code",
      "source": [
        "def occ_func(file):\n",
        "  return 'occ' if file.name[-5] != '_' else 'unocc'\n",
        "\n",
        "def piece_func(file):\n",
        "  return file.name[-5]"
      ],
      "metadata": {
        "id": "jt1hMGAuuITv"
      },
      "execution_count": 20,
      "outputs": []
    },
    {
      "cell_type": "code",
      "source": [
        "db_occ = DataBlock(blocks = (ImageBlock, CategoryBlock), \n",
        "                   get_items = get_image_files,\n",
        "                   get_y = occ_func,\n",
        "                   splitter = RandomSplitter())\n",
        "occ_sets = db_occ.dataloaders(label_dir, bs = 256)\n",
        "occ_sets.train"
      ],
      "metadata": {
        "colab": {
          "base_uri": "https://localhost:8080/"
        },
        "id": "NvmAW0qzzzIO",
        "outputId": "0e2ec2ca-8cd9-455e-8617-1b9f7291f5c4"
      },
      "execution_count": 132,
      "outputs": [
        {
          "output_type": "execute_result",
          "data": {
            "text/plain": [
              "<fastai.data.core.TfmdDL at 0x7f83aacd7590>"
            ]
          },
          "metadata": {},
          "execution_count": 132
        }
      ]
    },
    {
      "cell_type": "code",
      "source": [
        "occ_sets.vocab"
      ],
      "metadata": {
        "colab": {
          "base_uri": "https://localhost:8080/"
        },
        "id": "COe2Ah9t0G_w",
        "outputId": "8dc27e96-6d6c-4a4f-a4c0-bc0dc3c1c840"
      },
      "execution_count": 133,
      "outputs": [
        {
          "output_type": "execute_result",
          "data": {
            "text/plain": [
              "['occ', 'unocc']"
            ]
          },
          "metadata": {},
          "execution_count": 133
        }
      ]
    },
    {
      "cell_type": "code",
      "source": [
        "x, y = occ_sets.one_batch()"
      ],
      "metadata": {
        "id": "NqigAsm-8iwt"
      },
      "execution_count": 134,
      "outputs": []
    },
    {
      "cell_type": "code",
      "source": [
        "db_piece = DataBlock(blocks = (ImageBlock, CategoryBlock), \n",
        "                   get_items = get_image_files,\n",
        "                   get_y = piece_func,\n",
        "                   splitter = RandomSplitter())\n",
        "piece_sets = db_piece.dataloaders(label_dir, bs = 128)\n",
        "piece_sets.train"
      ],
      "metadata": {
        "colab": {
          "base_uri": "https://localhost:8080/"
        },
        "id": "8n4XSUXIp1cU",
        "outputId": "997e107e-046d-4fdc-a2db-027a28f38dfb"
      },
      "execution_count": 158,
      "outputs": [
        {
          "output_type": "execute_result",
          "data": {
            "text/plain": [
              "<fastai.data.core.TfmdDL at 0x7f8332f681d0>"
            ]
          },
          "metadata": {},
          "execution_count": 158
        }
      ]
    },
    {
      "cell_type": "code",
      "source": [
        "             "
      ],
      "metadata": {
        "id": "ogqO_5w7TVZi"
      },
      "execution_count": null,
      "outputs": []
    },
    {
      "cell_type": "code",
      "source": [
        "piece_sets.vocab"
      ],
      "metadata": {
        "colab": {
          "base_uri": "https://localhost:8080/"
        },
        "id": "fyGhIc6Qp7pW",
        "outputId": "1e66903f-c075-4a64-b0e3-d3435d83ab96"
      },
      "execution_count": 117,
      "outputs": [
        {
          "output_type": "execute_result",
          "data": {
            "text/plain": [
              "['B', 'K', 'N', 'P', 'Q', 'R', '_', 'b', 'k', 'n', 'p', 'q', 'r']"
            ]
          },
          "metadata": {},
          "execution_count": 117
        }
      ]
    },
    {
      "cell_type": "code",
      "source": [
        ""
      ],
      "metadata": {
        "id": "BZutF3Ktq3nK"
      },
      "execution_count": 89,
      "outputs": []
    },
    {
      "cell_type": "markdown",
      "source": [
        "## Model Creation"
      ],
      "metadata": {
        "id": "te_FjCYlQrp1"
      }
    },
    {
      "cell_type": "code",
      "source": [
        "device = torch.device(\"cuda\" if torch.cuda.is_available() else \"cpu\")"
      ],
      "metadata": {
        "id": "bvVdE9D8q9Jg"
      },
      "execution_count": 61,
      "outputs": []
    },
    {
      "cell_type": "code",
      "source": [
        "resnet_occ = resnet18(pretrained=True).to(device)"
      ],
      "metadata": {
        "id": "o5Fi34jRwrqX"
      },
      "execution_count": 139,
      "outputs": []
    },
    {
      "cell_type": "code",
      "source": [
        "n = resnet_occ.fc.in_features\n",
        "resnet_occ.fc = nn.Linear(n, 2)\n"
      ],
      "metadata": {
        "id": "HvbqVVa5yAVD"
      },
      "execution_count": 140,
      "outputs": []
    },
    {
      "cell_type": "code",
      "source": [
        "summary(resnet_occ, x.shape[1:])"
      ],
      "metadata": {
        "colab": {
          "base_uri": "https://localhost:8080/"
        },
        "id": "l5M5f2er2LRD",
        "outputId": "b9f56469-2ff6-48a6-93e1-9dd18aebe1d5"
      },
      "execution_count": 141,
      "outputs": [
        {
          "output_type": "stream",
          "name": "stdout",
          "text": [
            "----------------------------------------------------------------\n",
            "        Layer (type)               Output Shape         Param #\n",
            "================================================================\n",
            "            Conv2d-1           [-1, 64, 25, 25]           9,408\n",
            "       BatchNorm2d-2           [-1, 64, 25, 25]             128\n",
            "              ReLU-3           [-1, 64, 25, 25]               0\n",
            "         MaxPool2d-4           [-1, 64, 13, 13]               0\n",
            "            Conv2d-5           [-1, 64, 13, 13]          36,864\n",
            "       BatchNorm2d-6           [-1, 64, 13, 13]             128\n",
            "              ReLU-7           [-1, 64, 13, 13]               0\n",
            "            Conv2d-8           [-1, 64, 13, 13]          36,864\n",
            "       BatchNorm2d-9           [-1, 64, 13, 13]             128\n",
            "             ReLU-10           [-1, 64, 13, 13]               0\n",
            "       BasicBlock-11           [-1, 64, 13, 13]               0\n",
            "           Conv2d-12           [-1, 64, 13, 13]          36,864\n",
            "      BatchNorm2d-13           [-1, 64, 13, 13]             128\n",
            "             ReLU-14           [-1, 64, 13, 13]               0\n",
            "           Conv2d-15           [-1, 64, 13, 13]          36,864\n",
            "      BatchNorm2d-16           [-1, 64, 13, 13]             128\n",
            "             ReLU-17           [-1, 64, 13, 13]               0\n",
            "       BasicBlock-18           [-1, 64, 13, 13]               0\n",
            "           Conv2d-19            [-1, 128, 7, 7]          73,728\n",
            "      BatchNorm2d-20            [-1, 128, 7, 7]             256\n",
            "             ReLU-21            [-1, 128, 7, 7]               0\n",
            "           Conv2d-22            [-1, 128, 7, 7]         147,456\n",
            "      BatchNorm2d-23            [-1, 128, 7, 7]             256\n",
            "           Conv2d-24            [-1, 128, 7, 7]           8,192\n",
            "      BatchNorm2d-25            [-1, 128, 7, 7]             256\n",
            "             ReLU-26            [-1, 128, 7, 7]               0\n",
            "       BasicBlock-27            [-1, 128, 7, 7]               0\n",
            "           Conv2d-28            [-1, 128, 7, 7]         147,456\n",
            "      BatchNorm2d-29            [-1, 128, 7, 7]             256\n",
            "             ReLU-30            [-1, 128, 7, 7]               0\n",
            "           Conv2d-31            [-1, 128, 7, 7]         147,456\n",
            "      BatchNorm2d-32            [-1, 128, 7, 7]             256\n",
            "             ReLU-33            [-1, 128, 7, 7]               0\n",
            "       BasicBlock-34            [-1, 128, 7, 7]               0\n",
            "           Conv2d-35            [-1, 256, 4, 4]         294,912\n",
            "      BatchNorm2d-36            [-1, 256, 4, 4]             512\n",
            "             ReLU-37            [-1, 256, 4, 4]               0\n",
            "           Conv2d-38            [-1, 256, 4, 4]         589,824\n",
            "      BatchNorm2d-39            [-1, 256, 4, 4]             512\n",
            "           Conv2d-40            [-1, 256, 4, 4]          32,768\n",
            "      BatchNorm2d-41            [-1, 256, 4, 4]             512\n",
            "             ReLU-42            [-1, 256, 4, 4]               0\n",
            "       BasicBlock-43            [-1, 256, 4, 4]               0\n",
            "           Conv2d-44            [-1, 256, 4, 4]         589,824\n",
            "      BatchNorm2d-45            [-1, 256, 4, 4]             512\n",
            "             ReLU-46            [-1, 256, 4, 4]               0\n",
            "           Conv2d-47            [-1, 256, 4, 4]         589,824\n",
            "      BatchNorm2d-48            [-1, 256, 4, 4]             512\n",
            "             ReLU-49            [-1, 256, 4, 4]               0\n",
            "       BasicBlock-50            [-1, 256, 4, 4]               0\n",
            "           Conv2d-51            [-1, 512, 2, 2]       1,179,648\n",
            "      BatchNorm2d-52            [-1, 512, 2, 2]           1,024\n",
            "             ReLU-53            [-1, 512, 2, 2]               0\n",
            "           Conv2d-54            [-1, 512, 2, 2]       2,359,296\n",
            "      BatchNorm2d-55            [-1, 512, 2, 2]           1,024\n",
            "           Conv2d-56            [-1, 512, 2, 2]         131,072\n",
            "      BatchNorm2d-57            [-1, 512, 2, 2]           1,024\n",
            "             ReLU-58            [-1, 512, 2, 2]               0\n",
            "       BasicBlock-59            [-1, 512, 2, 2]               0\n",
            "           Conv2d-60            [-1, 512, 2, 2]       2,359,296\n",
            "      BatchNorm2d-61            [-1, 512, 2, 2]           1,024\n",
            "             ReLU-62            [-1, 512, 2, 2]               0\n",
            "           Conv2d-63            [-1, 512, 2, 2]       2,359,296\n",
            "      BatchNorm2d-64            [-1, 512, 2, 2]           1,024\n",
            "             ReLU-65            [-1, 512, 2, 2]               0\n",
            "       BasicBlock-66            [-1, 512, 2, 2]               0\n",
            "AdaptiveAvgPool2d-67            [-1, 512, 1, 1]               0\n",
            "           Linear-68                    [-1, 2]           1,026\n",
            "================================================================\n",
            "Total params: 11,177,538\n",
            "Trainable params: 11,177,538\n",
            "Non-trainable params: 0\n",
            "----------------------------------------------------------------\n",
            "Input size (MB): 0.03\n",
            "Forward/backward pass size (MB): 3.67\n",
            "Params size (MB): 42.64\n",
            "Estimated Total Size (MB): 46.34\n",
            "----------------------------------------------------------------\n"
          ]
        }
      ]
    },
    {
      "cell_type": "code",
      "source": [
        "celoss = BaseLoss(nn.CrossEntropyLoss)"
      ],
      "metadata": {
        "id": "edS11gdizV5n"
      },
      "execution_count": 21,
      "outputs": []
    },
    {
      "cell_type": "code",
      "source": [
        "learn = Learner(occ_sets, resnet_occ, opt_func = Adam,\n",
        "                loss_func = celoss, metrics = accuracy)"
      ],
      "metadata": {
        "id": "nxFKbC0EB1Dg"
      },
      "execution_count": 146,
      "outputs": []
    },
    {
      "cell_type": "code",
      "source": [
        "learn.freeze()"
      ],
      "metadata": {
        "id": "aeOVOWkQCNHm"
      },
      "execution_count": 147,
      "outputs": []
    },
    {
      "cell_type": "code",
      "source": [
        "learn.fit(1, .001)"
      ],
      "metadata": {
        "colab": {
          "base_uri": "https://localhost:8080/",
          "height": 81
        },
        "id": "h3BEILPICQh7",
        "outputId": "85dc2893-e802-4029-ee74-37a1fb9d27df"
      },
      "execution_count": 148,
      "outputs": [
        {
          "output_type": "display_data",
          "data": {
            "text/html": [
              "\n",
              "<style>\n",
              "    /* Turns off some styling */\n",
              "    progress {\n",
              "        /* gets rid of default border in Firefox and Opera. */\n",
              "        border: none;\n",
              "        /* Needs to be in here for Safari polyfill so background images work as expected. */\n",
              "        background-size: auto;\n",
              "    }\n",
              "    .progress-bar-interrupted, .progress-bar-interrupted::-webkit-progress-bar {\n",
              "        background: #F44336;\n",
              "    }\n",
              "</style>\n"
            ],
            "text/plain": [
              "<IPython.core.display.HTML object>"
            ]
          },
          "metadata": {}
        },
        {
          "output_type": "display_data",
          "data": {
            "text/html": [
              "<table border=\"1\" class=\"dataframe\">\n",
              "  <thead>\n",
              "    <tr style=\"text-align: left;\">\n",
              "      <th>epoch</th>\n",
              "      <th>train_loss</th>\n",
              "      <th>valid_loss</th>\n",
              "      <th>accuracy</th>\n",
              "      <th>time</th>\n",
              "    </tr>\n",
              "  </thead>\n",
              "  <tbody>\n",
              "    <tr>\n",
              "      <td>0</td>\n",
              "      <td>0.008777</td>\n",
              "      <td>0.000203</td>\n",
              "      <td>1.000000</td>\n",
              "      <td>50:37</td>\n",
              "    </tr>\n",
              "  </tbody>\n",
              "</table>"
            ],
            "text/plain": [
              "<IPython.core.display.HTML object>"
            ]
          },
          "metadata": {}
        }
      ]
    },
    {
      "cell_type": "code",
      "source": [
        "learn.path = Path(module_dir)\n",
        "learn.export('occ_model.pkl')"
      ],
      "metadata": {
        "id": "ONMpIAzDC_li"
      },
      "execution_count": 153,
      "outputs": []
    },
    {
      "cell_type": "code",
      "source": [
        "learn.recorder.plot_loss()"
      ],
      "metadata": {
        "colab": {
          "base_uri": "https://localhost:8080/",
          "height": 265
        },
        "id": "LGgLsAH_Iqv5",
        "outputId": "abf3bbc5-277d-49fb-feb3-64592a4cff6d"
      },
      "execution_count": 154,
      "outputs": [
        {
          "output_type": "display_data",
          "data": {
            "image/png": "[encoded data removed]",
            "text/plain": [
              "<Figure size 432x288 with 1 Axes>"
            ]
          },
          "metadata": {
            "needs_background": "light"
          }
        }
      ]
    },
    {
      "cell_type": "code",
      "source": [
        ""
      ],
      "metadata": {
        "id": "2PDasRBpKiA0"
      },
      "execution_count": 148,
      "outputs": []
    },
    {
      "cell_type": "code",
      "source": [
        ""
      ],
      "metadata": {
        "id": "6-B9KMxKM27g"
      },
      "execution_count": 148,
      "outputs": []
    },
    {
      "cell_type": "code",
      "source": [
        "resnet_piece = resnet18(pretrained=True).to(device)\n",
        "n = resnet_piece.fc.in_features\n",
        "resnet_piece.fc = nn.Linear(n, 13)\n",
        "summary(resnet_piece, x.shape[1:])"
      ],
      "metadata": {
        "colab": {
          "base_uri": "https://localhost:8080/"
        },
        "id": "wsCiNj7nNB0O",
        "outputId": "ae0abe38-e95d-47e3-b74b-992e29b9d20c"
      },
      "execution_count": 162,
      "outputs": [
        {
          "output_type": "stream",
          "name": "stdout",
          "text": [
            "----------------------------------------------------------------\n",
            "        Layer (type)               Output Shape         Param #\n",
            "================================================================\n",
            "            Conv2d-1           [-1, 64, 25, 25]           9,408\n",
            "       BatchNorm2d-2           [-1, 64, 25, 25]             128\n",
            "              ReLU-3           [-1, 64, 25, 25]               0\n",
            "         MaxPool2d-4           [-1, 64, 13, 13]               0\n",
            "            Conv2d-5           [-1, 64, 13, 13]          36,864\n",
            "       BatchNorm2d-6           [-1, 64, 13, 13]             128\n",
            "              ReLU-7           [-1, 64, 13, 13]               0\n",
            "            Conv2d-8           [-1, 64, 13, 13]          36,864\n",
            "       BatchNorm2d-9           [-1, 64, 13, 13]             128\n",
            "             ReLU-10           [-1, 64, 13, 13]               0\n",
            "       BasicBlock-11           [-1, 64, 13, 13]               0\n",
            "           Conv2d-12           [-1, 64, 13, 13]          36,864\n",
            "      BatchNorm2d-13           [-1, 64, 13, 13]             128\n",
            "             ReLU-14           [-1, 64, 13, 13]               0\n",
            "           Conv2d-15           [-1, 64, 13, 13]          36,864\n",
            "      BatchNorm2d-16           [-1, 64, 13, 13]             128\n",
            "             ReLU-17           [-1, 64, 13, 13]               0\n",
            "       BasicBlock-18           [-1, 64, 13, 13]               0\n",
            "           Conv2d-19            [-1, 128, 7, 7]          73,728\n",
            "      BatchNorm2d-20            [-1, 128, 7, 7]             256\n",
            "             ReLU-21            [-1, 128, 7, 7]               0\n",
            "           Conv2d-22            [-1, 128, 7, 7]         147,456\n",
            "      BatchNorm2d-23            [-1, 128, 7, 7]             256\n",
            "           Conv2d-24            [-1, 128, 7, 7]           8,192\n",
            "      BatchNorm2d-25            [-1, 128, 7, 7]             256\n",
            "             ReLU-26            [-1, 128, 7, 7]               0\n",
            "       BasicBlock-27            [-1, 128, 7, 7]               0\n",
            "           Conv2d-28            [-1, 128, 7, 7]         147,456\n",
            "      BatchNorm2d-29            [-1, 128, 7, 7]             256\n",
            "             ReLU-30            [-1, 128, 7, 7]               0\n",
            "           Conv2d-31            [-1, 128, 7, 7]         147,456\n",
            "      BatchNorm2d-32            [-1, 128, 7, 7]             256\n",
            "             ReLU-33            [-1, 128, 7, 7]               0\n",
            "       BasicBlock-34            [-1, 128, 7, 7]               0\n",
            "           Conv2d-35            [-1, 256, 4, 4]         294,912\n",
            "      BatchNorm2d-36            [-1, 256, 4, 4]             512\n",
            "             ReLU-37            [-1, 256, 4, 4]               0\n",
            "           Conv2d-38            [-1, 256, 4, 4]         589,824\n",
            "      BatchNorm2d-39            [-1, 256, 4, 4]             512\n",
            "           Conv2d-40            [-1, 256, 4, 4]          32,768\n",
            "      BatchNorm2d-41            [-1, 256, 4, 4]             512\n",
            "             ReLU-42            [-1, 256, 4, 4]               0\n",
            "       BasicBlock-43            [-1, 256, 4, 4]               0\n",
            "           Conv2d-44            [-1, 256, 4, 4]         589,824\n",
            "      BatchNorm2d-45            [-1, 256, 4, 4]             512\n",
            "             ReLU-46            [-1, 256, 4, 4]               0\n",
            "           Conv2d-47            [-1, 256, 4, 4]         589,824\n",
            "      BatchNorm2d-48            [-1, 256, 4, 4]             512\n",
            "             ReLU-49            [-1, 256, 4, 4]               0\n",
            "       BasicBlock-50            [-1, 256, 4, 4]               0\n",
            "           Conv2d-51            [-1, 512, 2, 2]       1,179,648\n",
            "      BatchNorm2d-52            [-1, 512, 2, 2]           1,024\n",
            "             ReLU-53            [-1, 512, 2, 2]               0\n",
            "           Conv2d-54            [-1, 512, 2, 2]       2,359,296\n",
            "      BatchNorm2d-55            [-1, 512, 2, 2]           1,024\n",
            "           Conv2d-56            [-1, 512, 2, 2]         131,072\n",
            "      BatchNorm2d-57            [-1, 512, 2, 2]           1,024\n",
            "             ReLU-58            [-1, 512, 2, 2]               0\n",
            "       BasicBlock-59            [-1, 512, 2, 2]               0\n",
            "           Conv2d-60            [-1, 512, 2, 2]       2,359,296\n",
            "      BatchNorm2d-61            [-1, 512, 2, 2]           1,024\n",
            "             ReLU-62            [-1, 512, 2, 2]               0\n",
            "           Conv2d-63            [-1, 512, 2, 2]       2,359,296\n",
            "      BatchNorm2d-64            [-1, 512, 2, 2]           1,024\n",
            "             ReLU-65            [-1, 512, 2, 2]               0\n",
            "       BasicBlock-66            [-1, 512, 2, 2]               0\n",
            "AdaptiveAvgPool2d-67            [-1, 512, 1, 1]               0\n",
            "           Linear-68                   [-1, 13]           6,669\n",
            "================================================================\n",
            "Total params: 11,183,181\n",
            "Trainable params: 11,183,181\n",
            "Non-trainable params: 0\n",
            "----------------------------------------------------------------\n",
            "Input size (MB): 0.03\n",
            "Forward/backward pass size (MB): 3.67\n",
            "Params size (MB): 42.66\n",
            "Estimated Total Size (MB): 46.36\n",
            "----------------------------------------------------------------\n"
          ]
        }
      ]
    },
    {
      "cell_type": "code",
      "source": [
        "learn_p = Learner(piece_sets, resnet_piece, opt_func = Adam,\n",
        "                loss_func = celoss, metrics = accuracy)\n",
        "\n",
        "learn_p.freeze()"
      ],
      "metadata": {
        "id": "NkutNyuNQUXn"
      },
      "execution_count": 163,
      "outputs": []
    },
    {
      "cell_type": "code",
      "source": [
        "learn_p.fit(1, .001)"
      ],
      "metadata": {
        "colab": {
          "base_uri": "https://localhost:8080/",
          "height": 81
        },
        "id": "i_i-lgLJQfKV",
        "outputId": "e2c5b23a-8b37-4363-86a9-c5fbf5fcb832"
      },
      "execution_count": 164,
      "outputs": [
        {
          "output_type": "display_data",
          "data": {
            "text/html": [
              "\n",
              "<style>\n",
              "    /* Turns off some styling */\n",
              "    progress {\n",
              "        /* gets rid of default border in Firefox and Opera. */\n",
              "        border: none;\n",
              "        /* Needs to be in here for Safari polyfill so background images work as expected. */\n",
              "        background-size: auto;\n",
              "    }\n",
              "    .progress-bar-interrupted, .progress-bar-interrupted::-webkit-progress-bar {\n",
              "        background: #F44336;\n",
              "    }\n",
              "</style>\n"
            ],
            "text/plain": [
              "<IPython.core.display.HTML object>"
            ]
          },
          "metadata": {}
        },
        {
          "output_type": "display_data",
          "data": {
            "text/html": [
              "<table border=\"1\" class=\"dataframe\">\n",
              "  <thead>\n",
              "    <tr style=\"text-align: left;\">\n",
              "      <th>epoch</th>\n",
              "      <th>train_loss</th>\n",
              "      <th>valid_loss</th>\n",
              "      <th>accuracy</th>\n",
              "      <th>time</th>\n",
              "    </tr>\n",
              "  </thead>\n",
              "  <tbody>\n",
              "    <tr>\n",
              "      <td>0</td>\n",
              "      <td>0.016619</td>\n",
              "      <td>0.004635</td>\n",
              "      <td>0.998867</td>\n",
              "      <td>57:34</td>\n",
              "    </tr>\n",
              "  </tbody>\n",
              "</table>"
            ],
            "text/plain": [
              "<IPython.core.display.HTML object>"
            ]
          },
          "metadata": {}
        }
      ]
    },
    {
      "cell_type": "code",
      "source": [
        "learn_p.path = Path(module_dir)\n",
        "learn_p.export('piece_model.pkl')"
      ],
      "metadata": {
        "id": "JSR0dNIvQjuU"
      },
      "execution_count": 165,
      "outputs": []
    },
    {
      "cell_type": "code",
      "source": [
        "learn_p.recorder.plot_loss()"
      ],
      "metadata": {
        "colab": {
          "base_uri": "https://localhost:8080/",
          "height": 268
        },
        "id": "egyG-lYnQo9G",
        "outputId": "22861198-b090-4745-b6b2-9ff71e2d206f"
      },
      "execution_count": 166,
      "outputs": [
        {
          "output_type": "display_data",
          "data": {
            "image/png": "[encoded data removed]",
            "text/plain": [
              "<Figure size 432x288 with 1 Axes>"
            ]
          },
          "metadata": {
            "needs_background": "light"
          }
        }
      ]
    },
    {
      "cell_type": "code",
      "source": [
        ""
      ],
      "metadata": {
        "id": "bvxbbiRbH-FX"
      },
      "execution_count": null,
      "outputs": []
    },
    {
      "cell_type": "markdown",
      "source": [
        "## Testing"
      ],
      "metadata": {
        "id": "byNtzhkSQnas"
      }
    },
    {
      "cell_type": "code",
      "source": [
        "def recollectFEN(testnum):\n",
        "\n",
        "  flatFEN = ['_'] * 64\n",
        "  cur = 0\n",
        "  for i in range(0, 8):\n",
        "    for j in range(0, 8):\n",
        "      flatFEN[cur] = re.search('test/(.+)_(.+)_(.+?).jpg', labeledtestdata[testnum*64 + i*8 + j]).group(3)\n",
        "      cur += 1\n",
        "\n",
        "  return flatFEN"
      ],
      "metadata": {
        "id": "fY1NCUtqQpPc"
      },
      "execution_count": 18,
      "outputs": []
    },
    {
      "cell_type": "code",
      "source": [
        "learn_occ = load_learner(os.path.join(module_dir, 'occ_model.pkl'))\n",
        "learn_piece = load_learner(os.path.join(module_dir, 'piece_model.pkl'))"
      ],
      "metadata": {
        "id": "iW8fkrewZgM_"
      },
      "execution_count": 22,
      "outputs": []
    },
    {
      "cell_type": "code",
      "source": [
        "db_occ = DataBlock(blocks = (ImageBlock, CategoryBlock), \n",
        "                   get_items = get_image_files,\n",
        "                   get_y = occ_func,\n",
        "                   splitter = RandomSplitter())"
      ],
      "metadata": {
        "id": "BMyOgS90gsH7"
      },
      "execution_count": 51,
      "outputs": []
    },
    {
      "cell_type": "code",
      "source": [
        "dls_occ = db_occ.dataloaders(test_dir)\n",
        "test_occ = dls_occ.test_dl(labeledtestdata, with_labels=True)"
      ],
      "metadata": {
        "id": "O_kat6aDrNsI"
      },
      "execution_count": 82,
      "outputs": []
    },
    {
      "cell_type": "code",
      "source": [
        "test_files = get_image_files(test_dir)\n",
        "test_occ = dls_occ.test_dl(test_items = test_files, with_labels = True)"
      ],
      "metadata": {
        "id": "EnZoqoUB0EsC"
      },
      "execution_count": 86,
      "outputs": []
    },
    {
      "cell_type": "code",
      "source": [
        "test_occ_logprobs, test_occ_targets = learn_occ.get_preds(dl = test_occ)"
      ],
      "metadata": {
        "colab": {
          "base_uri": "https://localhost:8080/",
          "height": 17
        },
        "id": "Ob51VO11uG9W",
        "outputId": "8cccd756-b8e1-494a-bfc7-9fe18feb51d8"
      },
      "execution_count": 102,
      "outputs": [
        {
          "output_type": "display_data",
          "data": {
            "text/html": [
              "\n",
              "<style>\n",
              "    /* Turns off some styling */\n",
              "    progress {\n",
              "        /* gets rid of default border in Firefox and Opera. */\n",
              "        border: none;\n",
              "        /* Needs to be in here for Safari polyfill so background images work as expected. */\n",
              "        background-size: auto;\n",
              "    }\n",
              "    .progress-bar-interrupted, .progress-bar-interrupted::-webkit-progress-bar {\n",
              "        background: #F44336;\n",
              "    }\n",
              "</style>\n"
            ],
            "text/plain": [
              "<IPython.core.display.HTML object>"
            ]
          },
          "metadata": {}
        },
        {
          "output_type": "display_data",
          "data": {
            "text/html": [
              ""
            ],
            "text/plain": [
              "<IPython.core.display.HTML object>"
            ]
          },
          "metadata": {}
        }
      ]
    },
    {
      "cell_type": "code",
      "source": [
        "test_occ_loss, test_occ_acc = learn_occ.validate(dl = test_occ)"
      ],
      "metadata": {
        "colab": {
          "base_uri": "https://localhost:8080/",
          "height": 17
        },
        "id": "C7CFxV56w7TI",
        "outputId": "5c16e7b8-7571-417e-ac96-08b1aa9a1b64"
      },
      "execution_count": 107,
      "outputs": [
        {
          "output_type": "display_data",
          "data": {
            "text/html": [
              "\n",
              "<style>\n",
              "    /* Turns off some styling */\n",
              "    progress {\n",
              "        /* gets rid of default border in Firefox and Opera. */\n",
              "        border: none;\n",
              "        /* Needs to be in here for Safari polyfill so background images work as expected. */\n",
              "        background-size: auto;\n",
              "    }\n",
              "    .progress-bar-interrupted, .progress-bar-interrupted::-webkit-progress-bar {\n",
              "        background: #F44336;\n",
              "    }\n",
              "</style>\n"
            ],
            "text/plain": [
              "<IPython.core.display.HTML object>"
            ]
          },
          "metadata": {}
        },
        {
          "output_type": "display_data",
          "data": {
            "text/html": [
              ""
            ],
            "text/plain": [
              "<IPython.core.display.HTML object>"
            ]
          },
          "metadata": {}
        }
      ]
    },
    {
      "cell_type": "code",
      "source": [
        "test_occ_preds = test_occ_logprobs.argmax(axis = 1)"
      ],
      "metadata": {
        "id": "_ICQGOUSyPgv"
      },
      "execution_count": 105,
      "outputs": []
    },
    {
      "cell_type": "code",
      "source": [
        "print(test_occ_targets)\n",
        "print(test_occ_preds)"
      ],
      "metadata": {
        "colab": {
          "base_uri": "https://localhost:8080/"
        },
        "id": "c6dL7p8VzZlG",
        "outputId": "6a0ec504-fd49-4a94-d15e-6eb6922975df"
      },
      "execution_count": 106,
      "outputs": [
        {
          "output_type": "stream",
          "name": "stdout",
          "text": [
            "TensorCategory([1, 1, 1,  ..., 1, 1, 1])\n",
            "tensor([1, 1, 1,  ..., 1, 1, 1])\n"
          ]
        }
      ]
    },
    {
      "cell_type": "code",
      "source": [
        "results_occ = [True] * 500\n",
        "for i in range(0, 500):\n",
        "  for j in range(0, 64):\n",
        "    if(test_occ_preds[i*64 + j] != test_occ_targets[i*64 + j]):\n",
        "      results_occ[i] = False\n",
        "      break"
      ],
      "metadata": {
        "id": "mzUnQ92o5Hx7"
      },
      "execution_count": 132,
      "outputs": []
    },
    {
      "cell_type": "code",
      "source": [
        "occ_inc_cnt = 0\n",
        "for i in results_occ:\n",
        "  if i == False:\n",
        "    occ_inc_cnt += 1\n",
        "\n",
        "print(\"occupants incorrectly identified:\",occ_inc_cnt)"
      ],
      "metadata": {
        "colab": {
          "base_uri": "https://localhost:8080/"
        },
        "id": "t9R-iMgm6VIX",
        "outputId": "e539f554-9e89-40d2-cb22-d7696a9b7142"
      },
      "execution_count": 135,
      "outputs": [
        {
          "output_type": "stream",
          "name": "stdout",
          "text": [
            "occupants incorrectly identified: 0\n"
          ]
        }
      ]
    },
    {
      "cell_type": "markdown",
      "source": [
        "All square occupancies properly identified"
      ],
      "metadata": {
        "id": "m1ALexnU6y_e"
      }
    },
    {
      "cell_type": "markdown",
      "source": [
        "Testing of piece classifier"
      ],
      "metadata": {
        "id": "G9FYz2Tj67cq"
      }
    },
    {
      "cell_type": "code",
      "source": [
        "db_piece = DataBlock(blocks = (ImageBlock, CategoryBlock), \n",
        "                   get_items = get_image_files,\n",
        "                   get_y = piece_func,\n",
        "                   splitter = RandomSplitter())\n",
        "dls_piece = db_piece.dataloaders(test_dir)\n",
        "test_files = get_image_files(test_dir)\n",
        "test_piece = dls_piece.test_dl(test_items = test_files, with_labels = True)"
      ],
      "metadata": {
        "id": "ol94RRox6yUj"
      },
      "execution_count": 118,
      "outputs": []
    },
    {
      "cell_type": "code",
      "source": [
        "test_piece_logprobs, test_piece_targets = learn_piece.get_preds(dl = test_piece)\n",
        "test_piece_loss, test_piece_acc = learn_piece.validate(dl = test_piece)\n",
        "test_piece_preds = test_piece_logprobs.argmax(axis = 1)"
      ],
      "metadata": {
        "colab": {
          "base_uri": "https://localhost:8080/",
          "height": 17
        },
        "id": "h93-J4v67Or7",
        "outputId": "4969d11d-09a6-4e03-cc9f-7a0d9dcd8f1c"
      },
      "execution_count": 120,
      "outputs": [
        {
          "output_type": "display_data",
          "data": {
            "text/html": [
              "\n",
              "<style>\n",
              "    /* Turns off some styling */\n",
              "    progress {\n",
              "        /* gets rid of default border in Firefox and Opera. */\n",
              "        border: none;\n",
              "        /* Needs to be in here for Safari polyfill so background images work as expected. */\n",
              "        background-size: auto;\n",
              "    }\n",
              "    .progress-bar-interrupted, .progress-bar-interrupted::-webkit-progress-bar {\n",
              "        background: #F44336;\n",
              "    }\n",
              "</style>\n"
            ],
            "text/plain": [
              "<IPython.core.display.HTML object>"
            ]
          },
          "metadata": {}
        },
        {
          "output_type": "display_data",
          "data": {
            "text/html": [
              ""
            ],
            "text/plain": [
              "<IPython.core.display.HTML object>"
            ]
          },
          "metadata": {}
        },
        {
          "output_type": "display_data",
          "data": {
            "text/html": [
              "\n",
              "<style>\n",
              "    /* Turns off some styling */\n",
              "    progress {\n",
              "        /* gets rid of default border in Firefox and Opera. */\n",
              "        border: none;\n",
              "        /* Needs to be in here for Safari polyfill so background images work as expected. */\n",
              "        background-size: auto;\n",
              "    }\n",
              "    .progress-bar-interrupted, .progress-bar-interrupted::-webkit-progress-bar {\n",
              "        background: #F44336;\n",
              "    }\n",
              "</style>\n"
            ],
            "text/plain": [
              "<IPython.core.display.HTML object>"
            ]
          },
          "metadata": {}
        },
        {
          "output_type": "display_data",
          "data": {
            "text/html": [
              ""
            ],
            "text/plain": [
              "<IPython.core.display.HTML object>"
            ]
          },
          "metadata": {}
        }
      ]
    },
    {
      "cell_type": "code",
      "source": [
        "results_piece = [True] * 500\n",
        "for i in range(0, 500):\n",
        "  for j in range(0, 64):\n",
        "    if(test_piece_preds[i*64 + j] != test_piece_targets[i*64 + j]):\n",
        "      results_piece[i] = False\n",
        "      break"
      ],
      "metadata": {
        "id": "_fGcq83S-DWc"
      },
      "execution_count": 122,
      "outputs": []
    },
    {
      "cell_type": "code",
      "source": [
        "piece_inc_cnt = 0\n",
        "for i in range(len(results_piece)):\n",
        "  if results_piece[i] == False:\n",
        "    piece_inc_cnt += 1\n",
        "    print(i)\n",
        "\n",
        "print('\\nFENs incorrectly identified:', piece_inc_cnt)\n",
        "print(\"accuracy:\", (500-piece_inc_cnt)/500)"
      ],
      "metadata": {
        "colab": {
          "base_uri": "https://localhost:8080/"
        },
        "id": "fHqgZrul-P2M",
        "outputId": "dbe5ee83-0cf9-4397-dc31-c60acde7ab43"
      },
      "execution_count": 136,
      "outputs": [
        {
          "output_type": "stream",
          "name": "stdout",
          "text": [
            "67\n",
            "99\n",
            "106\n",
            "160\n",
            "174\n",
            "206\n",
            "211\n",
            "261\n",
            "339\n",
            "349\n",
            "409\n",
            "495\n",
            "\n",
            "FENs incorrectly identified: 12\n",
            "accuracy: 0.976\n"
          ]
        }
      ]
    },
    {
      "cell_type": "code",
      "source": [
        "tot_cnt = 0\n",
        "for i in range(0, 500):\n",
        "  for j in range(0, 64):\n",
        "    if(test_piece_preds[i*64 + j] != test_piece_targets[i*64 + j]):\n",
        "      tot_cnt += 1\n",
        "      img = PILImage.create(labeledtestdata[i*64 + j])\n",
        "      img.show()\n",
        "      print(\"testnum:\",i, \" tile:\", j + 1, \n",
        "            \"   prediction:\", test_piece.vocab[test_piece_preds[i*64 + j]],\n",
        "            \" actual:\", test_piece.vocab[test_piece_targets[i*64 + j]])\n",
        "\n",
        "print('\\nTotal Errors:', tot_cnt)"
      ],
      "metadata": {
        "colab": {
          "base_uri": "https://localhost:8080/",
          "height": 1000
        },
        "id": "_6tjH9i5AJYU",
        "outputId": "3113ed5a-4914-411d-8659-c15eb253d31d"
      },
      "execution_count": 151,
      "outputs": [
        {
          "output_type": "stream",
          "name": "stdout",
          "text": [
            "testnum: 67  tile: 25    prediction: n  actual: N\n",
            "testnum: 99  tile: 39    prediction: _  actual: b\n",
            "testnum: 106  tile: 61    prediction: Q  actual: K\n",
            "testnum: 160  tile: 13    prediction: B  actual: P\n",
            "testnum: 160  tile: 54    prediction: q  actual: k\n",
            "testnum: 174  tile: 47    prediction: b  actual: q\n",
            "testnum: 206  tile: 9    prediction: b  actual: B\n",
            "testnum: 211  tile: 15    prediction: q  actual: k\n",
            "testnum: 261  tile: 28    prediction: _  actual: b\n",
            "testnum: 339  tile: 40    prediction: b  actual: B\n",
            "testnum: 349  tile: 8    prediction: n  actual: N\n",
            "testnum: 349  tile: 27    prediction: b  actual: B\n",
            "testnum: 409  tile: 15    prediction: n  actual: N\n",
            "testnum: 495  tile: 54    prediction: p  actual: P\n",
            "\n",
            "Total Errors: 14\n"
          ]
        },
        {
          "output_type": "display_data",
          "data": {
            "image/png": "[encoded data removed]",
            "text/plain": [
              "<Figure size 72x72 with 1 Axes>"
            ]
          },
          "metadata": {
            "needs_background": "light"
          }
        },
        {
          "output_type": "display_data",
          "data": {
            "image/png": "[encoded data removed]",
            "text/plain": [
              "<Figure size 72x72 with 1 Axes>"
            ]
          },
          "metadata": {
            "needs_background": "light"
          }
        },
        {
          "output_type": "display_data",
          "data": {
            "image/png": "[encoded data removed]",
            "text/plain": [
              "<Figure size 72x72 with 1 Axes>"
            ]
          },
          "metadata": {
            "needs_background": "light"
          }
        },
        {
          "output_type": "display_data",
          "data": {
            "image/png": "[encoded data removed]",
            "text/plain": [
              "<Figure size 72x72 with 1 Axes>"
            ]
          },
          "metadata": {
            "needs_background": "light"
          }
        },
        {
          "output_type": "display_data",
          "data": {
            "image/png": "[encoded data removed]",
            "text/plain": [
              "<Figure size 72x72 with 1 Axes>"
            ]
          },
          "metadata": {
            "needs_background": "light"
          }
        },
        {
          "output_type": "display_data",
          "data": {
            "image/png": "[encoded data removed]",
            "text/plain": [
              "<Figure size 72x72 with 1 Axes>"
            ]
          },
          "metadata": {
            "needs_background": "light"
          }
        },
        {
          "output_type": "display_data",
          "data": {
            "image/png": "[encoded data removed]",
            "text/plain": [
              "<Figure size 72x72 with 1 Axes>"
            ]
          },
          "metadata": {
            "needs_background": "light"
          }
        },
        {
          "output_type": "display_data",
          "data": {
            "image/png": "[encoded data removed]",
            "text/plain": [
              "<Figure size 72x72 with 1 Axes>"
            ]
          },
          "metadata": {
            "needs_background": "light"
          }
        },
        {
          "output_type": "display_data",
          "data": {
            "image/png": "[encoded data removed]",
            "text/plain": [
              "<Figure size 72x72 with 1 Axes>"
            ]
          },
          "metadata": {
            "needs_background": "light"
          }
        },
        {
          "output_type": "display_data",
          "data": {
            "image/png": "[encoded data removed]",
            "text/plain": [
              "<Figure size 72x72 with 1 Axes>"
            ]
          },
          "metadata": {
            "needs_background": "light"
          }
        },
        {
          "output_type": "display_data",
          "data": {
            "image/png": "[encoded data removed]",
            "text/plain": [
              "<Figure size 72x72 with 1 Axes>"
            ]
          },
          "metadata": {
            "needs_background": "light"
          }
        },
        {
          "output_type": "display_data",
          "data": {
            "image/png": "[encoded data removed]",
            "text/plain": [
              "<Figure size 72x72 with 1 Axes>"
            ]
          },
          "metadata": {
            "needs_background": "light"
          }
        },
        {
          "output_type": "display_data",
          "data": {
            "image/png": "[encoded data removed]",
            "text/plain": [
              "<Figure size 72x72 with 1 Axes>"
            ]
          },
          "metadata": {
            "needs_background": "light"
          }
        },
        {
          "output_type": "display_data",
          "data": {
            "image/png": "[encoded data removed]",
            "text/plain": [
              "<Figure size 72x72 with 1 Axes>"
            ]
          },
          "metadata": {
            "needs_background": "light"
          }
        }
      ]
    }
  ]
}